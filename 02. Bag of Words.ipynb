{
 "cells": [
  {
   "cell_type": "code",
   "execution_count": 13,
   "metadata": {},
   "outputs": [],
   "source": [
    "import os\n",
    "import sqlite3\n",
    "import pandas as pd\n",
    "import nltk\n",
    "import pickle\n",
    "from sklearn.feature_extraction.text import CountVectorizer\n",
    "import warnings\n",
    "warnings.filterwarnings('ignore')"
   ]
  },
  {
   "cell_type": "code",
   "execution_count": 3,
   "metadata": {},
   "outputs": [],
   "source": [
    "if os.path.isfile('final.sqlite'):\n",
    "    conn = sqlite3.connect('final.sqlite')\n",
    "    final = pd.read_sql_query('select * from reviews', conn)\n",
    "    conn.close()\n",
    "else:\n",
    "    print('Please run Text Preprocessing code file')"
   ]
  },
  {
   "cell_type": "markdown",
   "metadata": {},
   "source": [
    "# Bag of Words"
   ]
  },
  {
   "cell_type": "code",
   "execution_count": 4,
   "metadata": {},
   "outputs": [
    {
     "name": "stdout",
     "output_type": "stream",
     "text": [
      "The type of text BOW vectorizer :  <class 'scipy.sparse.csr.csr_matrix'>\n",
      "The shape of text BOW vectorizer :  (87773, 34181)\n",
      "Number of unique words :  34181\n"
     ]
    }
   ],
   "source": [
    "count_vect = CountVectorizer()\n",
    "final_counts = count_vect.fit_transform(final['CleanedText'].values)\n",
    "print(\"The type of text BOW vectorizer : \", type(final_counts))\n",
    "print(\"The shape of text BOW vectorizer : \", final_counts.get_shape())\n",
    "print(\"Number of unique words : \", final_counts.get_shape()[1])"
   ]
  },
  {
   "cell_type": "markdown",
   "metadata": {},
   "source": [
    "## Bi-Grams and n-Grams"
   ]
  },
  {
   "cell_type": "markdown",
   "metadata": {},
   "source": [
    "**Motivation**\n",
    "\n",
    "Now that we have our list of words describing positive and negative reviews lets analyse them.\n",
    "\n",
    "We begin analysis by getting the frequency distribution of the words as shown below"
   ]
  },
  {
   "cell_type": "code",
   "execution_count": 14,
   "metadata": {},
   "outputs": [
    {
     "name": "stderr",
     "output_type": "stream",
     "text": [
      "IOPub data rate exceeded.\n",
      "The notebook server will temporarily stop sending output\n",
      "to the client in order to avoid crashing it.\n",
      "To change this limit, set the config variable\n",
      "`--NotebookApp.iopub_data_rate_limit`.\n",
      "\n",
      "Current values:\n",
      "NotebookApp.iopub_data_rate_limit=1000000.0 (bytes/sec)\n",
      "NotebookApp.rate_limit_window=3.0 (secs)\n",
      "\n"
     ]
    },
    {
     "name": "stdout",
     "output_type": "stream",
     "text": [
      "Most common positive words :  [(b'like', 35242), (b'tast', 30840), (b'good', 27671), (b'flavor', 26981), (b'love', 26733), (b'great', 25050), (b'one', 23767), (b'use', 22755), (b'tri', 21157), (b'product', 20972), (b'coffe', 20647), (b'tea', 19247), (b'food', 18115), (b'get', 17728), (b'make', 17278), (b'dog', 14274), (b'would', 13929), (b'eat', 13453), (b'time', 12997), (b'realli', 12951)]\n",
      "\n",
      "Most common negative words :  [(b'tast', 8828), (b'like', 8406), (b'product', 6907), (b'one', 5184), (b'flavor', 4936), (b'would', 4561), (b'tri', 4539), (b'coffe', 3871), (b'good', 3846), (b'use', 3690), (b'food', 3625), (b'get', 3456), (b'buy', 3385), (b'dog', 3214), (b'dont', 3017), (b'order', 3009), (b'tea', 2865), (b'even', 2835), (b'eat', 2693), (b'box', 2677)]\n"
     ]
    }
   ],
   "source": [
    "with open('positive_words.pkl', 'rb') as f:\n",
    "    all_positive_words = pickle.load(f)\n",
    "with open('negative_words.pkl', 'rb') as f:\n",
    "    all_negative_words = pickle.load(f)\n",
    "\n",
    "print(all_positive_words)\n",
    "freq_dist_positive = nltk.FreqDist(all_positive_words) # list of words as arguments\n",
    "freq_dist_negative = nltk.FreqDist(all_negative_words)\n",
    "print(\"Most common positive words : \", freq_dist_positive.most_common(20))\n",
    "print()\n",
    "print(\"Most common negative words : \", freq_dist_negative.most_common(20))"
   ]
  },
  {
   "cell_type": "code",
   "execution_count": null,
   "metadata": {},
   "outputs": [],
   "source": []
  }
 ],
 "metadata": {
  "kernelspec": {
   "display_name": "Python 3",
   "language": "python",
   "name": "python3"
  },
  "language_info": {
   "codemirror_mode": {
    "name": "ipython",
    "version": 3
   },
   "file_extension": ".py",
   "mimetype": "text/x-python",
   "name": "python",
   "nbconvert_exporter": "python",
   "pygments_lexer": "ipython3",
   "version": "3.6.6"
  }
 },
 "nbformat": 4,
 "nbformat_minor": 2
}
